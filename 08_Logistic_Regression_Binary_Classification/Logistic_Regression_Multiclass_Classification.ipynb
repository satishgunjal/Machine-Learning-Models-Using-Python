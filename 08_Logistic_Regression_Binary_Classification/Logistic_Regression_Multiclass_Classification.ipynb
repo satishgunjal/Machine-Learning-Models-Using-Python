{
  "nbformat": 4,
  "nbformat_minor": 0,
  "metadata": {
    "colab": {
      "name": "Logistic_Regression_Multiclass_Classification.ipynb",
      "provenance": [],
      "authorship_tag": "ABX9TyM7XT2D+Z/yQ2dQxAl4dHL1",
      "include_colab_link": true
    },
    "kernelspec": {
      "name": "python3",
      "display_name": "Python 3"
    }
  },
  "cells": [
    {
      "cell_type": "markdown",
      "metadata": {
        "id": "view-in-github",
        "colab_type": "text"
      },
      "source": [
        "<a href=\"https://colab.research.google.com/github/satishgunjal/Machine-Learning-Using-Python/blob/master/08_Logistic_Regression_Binary_Classification/Logistic_Regression_Multiclass_Classification.ipynb\" target=\"_parent\"><img src=\"https://colab.research.google.com/assets/colab-badge.svg\" alt=\"Open In Colab\"/></a>"
      ]
    },
    {
      "cell_type": "markdown",
      "metadata": {
        "id": "PVlRze_4_Beg",
        "colab_type": "text"
      },
      "source": [
        "\n",
        "# Logistic Regression (Multiclass Classification)\n",
        "\n",
        "1. For classification problem we use Logistic Regression\n",
        "2. Binary classficiation: When outcome has only two categories. (yea/no, 0/1, buy/not buy) e.g. Predicting whether customer will buy insurance policy\n",
        "3. Multiclass classification: When outcome has more than two categoirs. e.g Which party a person is going to vote for (BJP, Congres, AAP)\n",
        "\n",
        "**Problem Statement:Predicting handwritten digits using Multiclass logistic regression**\n",
        "\n",
        "* We are using handwritten digits dataset from sklearn.datasets\n",
        "* This dataset is made up of 1797, 8x8 images.\n",
        "* Each image contain one handwritten digit\n",
        "* In order to use 8x8 fugure/image we will transform it into feature vector of size 64.\n",
        "\n",
        "[Reference](https://youtu.be/J5bXOOmkopc)"
      ]
    },
    {
      "cell_type": "markdown",
      "metadata": {
        "id": "Xsr66uRb_vdb",
        "colab_type": "text"
      },
      "source": [
        "Import required classes"
      ]
    },
    {
      "cell_type": "code",
      "metadata": {
        "id": "MTfuhzDX-6IQ",
        "colab_type": "code",
        "colab": {}
      },
      "source": [
        "%matplotlib inline\n",
        "import matplotlib.pyplot as plt\n",
        "from sklearn.datasets import load_digits"
      ],
      "execution_count": 0,
      "outputs": []
    },
    {
      "cell_type": "markdown",
      "metadata": {
        "id": "mNJpLcUDX9Rh",
        "colab_type": "text"
      },
      "source": [
        "Load the digits dataset"
      ]
    },
    {
      "cell_type": "code",
      "metadata": {
        "id": "RsTBWNFSYAMf",
        "colab_type": "code",
        "colab": {}
      },
      "source": [
        "digits = load_digits()"
      ],
      "execution_count": 0,
      "outputs": []
    },
    {
      "cell_type": "markdown",
      "metadata": {
        "id": "RDNr64Z0YJCU",
        "colab_type": "text"
      },
      "source": [
        "Structure of digits dataset is as below"
      ]
    },
    {
      "cell_type": "code",
      "metadata": {
        "id": "H314xTvSYQPJ",
        "colab_type": "code",
        "colab": {
          "base_uri": "https://localhost:8080/",
          "height": 35
        },
        "outputId": "396d4342-7f4b-4eca-e2a7-fe4f78c8933c"
      },
      "source": [
        "dir(digits)"
      ],
      "execution_count": 43,
      "outputs": [
        {
          "output_type": "execute_result",
          "data": {
            "text/plain": [
              "['DESCR', 'data', 'images', 'target', 'target_names']"
            ]
          },
          "metadata": {
            "tags": []
          },
          "execution_count": 43
        }
      ]
    },
    {
      "cell_type": "markdown",
      "metadata": {
        "id": "T8b2JHTtY-JH",
        "colab_type": "text"
      },
      "source": [
        "'data'  > Contains the feature vector of size 64 for given number\n",
        "\n",
        "'image' > 8x8 image of the digit\n",
        "\n",
        "'target'> Digit value\n",
        "\n",
        "Lets plot the first 5 images from dataset\n"
      ]
    },
    {
      "cell_type": "code",
      "metadata": {
        "id": "oWGpHb1lZGPF",
        "colab_type": "code",
        "colab": {
          "base_uri": "https://localhost:8080/",
          "height": 1000
        },
        "outputId": "19920bf9-692c-47ea-f8b4-3a2c131a9465"
      },
      "source": [
        "plt.gray()\n",
        "\n",
        "for i in range(5):\n",
        "  plt.matshow(digits.images[i])\n",
        "  print(\"target value of image %s is %s\" % (i, digits.target[i]))"
      ],
      "execution_count": 44,
      "outputs": [
        {
          "output_type": "stream",
          "text": [
            "target value of image 0 is 0\n",
            "target value of image 1 is 1\n",
            "target value of image 2 is 2\n",
            "target value of image 3 is 3\n",
            "target value of image 4 is 4\n"
          ],
          "name": "stdout"
        },
        {
          "output_type": "display_data",
          "data": {
            "text/plain": [
              "<Figure size 432x288 with 0 Axes>"
            ]
          },
          "metadata": {
            "tags": []
          }
        },
        {
          "output_type": "display_data",
          "data": {
            "image/png": "[encoded data removed]",
            "text/plain": [
              "<Figure size 288x288 with 1 Axes>"
            ]
          },
          "metadata": {
            "tags": [],
            "needs_background": "light"
          }
        },
        {
          "output_type": "display_data",
          "data": {
            "image/png": "[encoded data removed]",
            "text/plain": [
              "<Figure size 288x288 with 1 Axes>"
            ]
          },
          "metadata": {
            "tags": [],
            "needs_background": "light"
          }
        },
        {
          "output_type": "display_data",
          "data": {
            "image/png": "[encoded data removed]",
            "text/plain": [
              "<Figure size 288x288 with 1 Axes>"
            ]
          },
          "metadata": {
            "tags": [],
            "needs_background": "light"
          }
        },
        {
          "output_type": "display_data",
          "data": {
            "image/png": "[encoded data removed]",
            "text/plain": [
              "<Figure size 288x288 with 1 Axes>"
            ]
          },
          "metadata": {
            "tags": [],
            "needs_background": "light"
          }
        },
        {
          "output_type": "display_data",
          "data": {
            "image/png": "[encoded data removed]",
            "text/plain": [
              "<Figure size 288x288 with 1 Axes>"
            ]
          },
          "metadata": {
            "tags": [],
            "needs_background": "light"
          }
        }
      ]
    },
    {
      "cell_type": "markdown",
      "metadata": {
        "id": "2oUNH4-rdQpV",
        "colab_type": "text"
      },
      "source": [
        "Now lets split the dataset into training and test data"
      ]
    },
    {
      "cell_type": "code",
      "metadata": {
        "id": "Nq7DdVmgZsr6",
        "colab_type": "code",
        "colab": {
          "base_uri": "https://localhost:8080/",
          "height": 88
        },
        "outputId": "f105863d-bb78-407a-a7d6-b022e97126be"
      },
      "source": [
        "from sklearn.model_selection import train_test_split # importing the class train_test_split\n",
        "\n",
        "X_train, X_test, y_train, y_test = train_test_split(digits.data,digits.target, test_size=0.2)\n",
        "\n",
        "# Notice here we are using digits.data because it contains the feature vector(64) for each image\n",
        "print(\"len of X_train is %s\" % (len(X_train)))\n",
        "print(\"len of X_test is %s\" % (len(X_test)))\n",
        "print(\"len of y_train is %s\" % (len(y_train)))\n",
        "print(\"len of y_test is %s\" % (len(y_test)))"
      ],
      "execution_count": 55,
      "outputs": [
        {
          "output_type": "stream",
          "text": [
            "len of X_train is 1437\n",
            "len of X_test is 360\n",
            "len of y_train is 1437\n",
            "len of y_test is 360\n"
          ],
          "name": "stdout"
        }
      ]
    },
    {
      "cell_type": "markdown",
      "metadata": {
        "id": "coyzGQlggbhR",
        "colab_type": "text"
      },
      "source": [
        "Now lets train the Regression model"
      ]
    },
    {
      "cell_type": "code",
      "metadata": {
        "id": "j6Xmgf7AgeLq",
        "colab_type": "code",
        "colab": {}
      },
      "source": [
        "from sklearn.linear_model import LogisticRegression # import LogisticRegression class\n",
        "\n",
        "# model = LogisticRegression() # create classifierm of the class\n",
        "\n",
        "#Above code didnot worked for me so i am using below parameters\n",
        "\n",
        "model = LogisticRegression(C=1.0, class_weight=None, dual=False, fit_intercept=True,\n",
        "          intercept_scaling=1, max_iter=100, multi_class='ovr', n_jobs=1,\n",
        "          penalty='l2', random_state=None, solver='liblinear', tol=0.0001,\n",
        "          verbose=0, warm_start=False)"
      ],
      "execution_count": 0,
      "outputs": []
    },
    {
      "cell_type": "code",
      "metadata": {
        "id": "cScJZRT6h3cz",
        "colab_type": "code",
        "colab": {
          "base_uri": "https://localhost:8080/",
          "height": 88
        },
        "outputId": "90ab91cd-ef52-4f57-a205-b8c8bf50b433"
      },
      "source": [
        "model.fit(X_train, y_train)"
      ],
      "execution_count": 57,
      "outputs": [
        {
          "output_type": "execute_result",
          "data": {
            "text/plain": [
              "LogisticRegression(C=1.0, class_weight=None, dual=False, fit_intercept=True,\n",
              "                   intercept_scaling=1, l1_ratio=None, max_iter=100,\n",
              "                   multi_class='ovr', n_jobs=1, penalty='l2', random_state=None,\n",
              "                   solver='liblinear', tol=0.0001, verbose=0, warm_start=False)"
            ]
          },
          "metadata": {
            "tags": []
          },
          "execution_count": 57
        }
      ]
    },
    {
      "cell_type": "markdown",
      "metadata": {
        "id": "kooaVJgQmFgG",
        "colab_type": "text"
      },
      "source": [
        "Check the accuracy of the model"
      ]
    },
    {
      "cell_type": "code",
      "metadata": {
        "id": "plnV2LWMmAQX",
        "colab_type": "code",
        "colab": {
          "base_uri": "https://localhost:8080/",
          "height": 35
        },
        "outputId": "1fbef9cb-26ad-4b43-e116-ca2b1f0e2605"
      },
      "source": [
        "model.score(X_test, y_test)"
      ],
      "execution_count": 58,
      "outputs": [
        {
          "output_type": "execute_result",
          "data": {
            "text/plain": [
              "0.9694444444444444"
            ]
          },
          "metadata": {
            "tags": []
          },
          "execution_count": 58
        }
      ]
    },
    {
      "cell_type": "markdown",
      "metadata": {
        "id": "XgDvlr_HnoiU",
        "colab_type": "text"
      },
      "source": [
        "## Testing the Model\n",
        "\n",
        "**Q1: Predict the value of 100th digit from dataset**"
      ]
    },
    {
      "cell_type": "code",
      "metadata": {
        "id": "gu9URawSn7U7",
        "colab_type": "code",
        "colab": {
          "base_uri": "https://localhost:8080/",
          "height": 35
        },
        "outputId": "40366188-9f56-4591-8baa-bc10d7c1f439"
      },
      "source": [
        "model.predict([digits.data[100]]) \n",
        "#note here 'digits.data[100]' is single dimentional array and since input must be 2 dimentional array we enclosed it in '[ ]' brackets"
      ],
      "execution_count": 60,
      "outputs": [
        {
          "output_type": "execute_result",
          "data": {
            "text/plain": [
              "array([4])"
            ]
          },
          "metadata": {
            "tags": []
          },
          "execution_count": 60
        }
      ]
    },
    {
      "cell_type": "markdown",
      "metadata": {
        "id": "-lh9Xq5ToRRZ",
        "colab_type": "text"
      },
      "source": [
        "Since our model predicted the value of 100th digit from dataset as 4, lets verify it using 'target' value from dataset"
      ]
    },
    {
      "cell_type": "code",
      "metadata": {
        "id": "XUlZftZUoX4Q",
        "colab_type": "code",
        "colab": {
          "base_uri": "https://localhost:8080/",
          "height": 35
        },
        "outputId": "4dc7baec-cb1e-435d-d857-51b238e74402"
      },
      "source": [
        "digits.target[100]"
      ],
      "execution_count": 62,
      "outputs": [
        {
          "output_type": "execute_result",
          "data": {
            "text/plain": [
              "4"
            ]
          },
          "metadata": {
            "tags": []
          },
          "execution_count": 62
        }
      ]
    },
    {
      "cell_type": "markdown",
      "metadata": {
        "id": "RlaHxIwmomU9",
        "colab_type": "text"
      },
      "source": [
        "**Q2: Lets predict the first 5 images values**"
      ]
    },
    {
      "cell_type": "code",
      "metadata": {
        "id": "fBGFlP4xowe_",
        "colab_type": "code",
        "colab": {
          "base_uri": "https://localhost:8080/",
          "height": 35
        },
        "outputId": "43bf9458-9c0c-4076-a5f0-f23debae581e"
      },
      "source": [
        "model.predict(digits.data[0:5])\n",
        "#note here 'digits.data[0:5]' is two dimentional array"
      ],
      "execution_count": 68,
      "outputs": [
        {
          "output_type": "execute_result",
          "data": {
            "text/plain": [
              "array([0, 1, 2, 3, 4])"
            ]
          },
          "metadata": {
            "tags": []
          },
          "execution_count": 68
        }
      ]
    },
    {
      "cell_type": "markdown",
      "metadata": {
        "id": "PPckr-PZpwQc",
        "colab_type": "text"
      },
      "source": [
        "lets verify it using 'target' values"
      ]
    },
    {
      "cell_type": "code",
      "metadata": {
        "id": "kjjFWmZep0P4",
        "colab_type": "code",
        "colab": {
          "base_uri": "https://localhost:8080/",
          "height": 35
        },
        "outputId": "1428444a-c8a0-45df-82b8-e890bc629d5f"
      },
      "source": [
        "digits.target[0:5]"
      ],
      "execution_count": 69,
      "outputs": [
        {
          "output_type": "execute_result",
          "data": {
            "text/plain": [
              "array([0, 1, 2, 3, 4])"
            ]
          },
          "metadata": {
            "tags": []
          },
          "execution_count": 69
        }
      ]
    },
    {
      "cell_type": "markdown",
      "metadata": {
        "id": "9GH8-PbHq59m",
        "colab_type": "text"
      },
      "source": [
        "## To visualize the inner working of the model we use Congusion Matrix"
      ]
    },
    {
      "cell_type": "code",
      "metadata": {
        "id": "NnJFbzfvr8TX",
        "colab_type": "code",
        "colab": {}
      },
      "source": [
        "y_predicted =model.predict(X_test)"
      ],
      "execution_count": 0,
      "outputs": []
    },
    {
      "cell_type": "code",
      "metadata": {
        "id": "_vGMsySxrI0z",
        "colab_type": "code",
        "colab": {
          "base_uri": "https://localhost:8080/",
          "height": 195
        },
        "outputId": "685b45ce-1bb2-4332-e2ac-16f6ec0ace72"
      },
      "source": [
        "from sklearn.metrics import confusion_matrix # import confusion matrix class\n",
        "\n",
        "cm = confusion_matrix(y_test,y_predicted) # create classifier of confussion_matrix\n",
        "cm # it is two dimentional array"
      ],
      "execution_count": 76,
      "outputs": [
        {
          "output_type": "execute_result",
          "data": {
            "text/plain": [
              "array([[34,  0,  0,  0,  0,  0,  0,  0,  0,  0],\n",
              "       [ 0, 35,  0,  0,  0,  0,  0,  0,  0,  0],\n",
              "       [ 0,  0, 43,  1,  0,  0,  0,  0,  0,  0],\n",
              "       [ 0,  0,  0, 31,  0,  2,  0,  0,  0,  0],\n",
              "       [ 0,  0,  0,  0, 37,  0,  0,  0,  0,  0],\n",
              "       [ 0,  1,  0,  0,  0, 40,  0,  0,  0,  0],\n",
              "       [ 0,  0,  0,  0,  0,  0, 41,  0,  1,  0],\n",
              "       [ 0,  0,  0,  0,  0,  0,  0, 27,  0,  1],\n",
              "       [ 0,  2,  0,  1,  0,  0,  0,  0, 30,  1],\n",
              "       [ 0,  0,  0,  0,  0,  0,  0,  0,  1, 31]])"
            ]
          },
          "metadata": {
            "tags": []
          },
          "execution_count": 76
        }
      ]
    },
    {
      "cell_type": "markdown",
      "metadata": {
        "id": "vgVdnPSOswsG",
        "colab_type": "text"
      },
      "source": [
        "For better visualization of aray we are going to use seaborn library"
      ]
    },
    {
      "cell_type": "code",
      "metadata": {
        "id": "9rv62t8Rs5pN",
        "colab_type": "code",
        "colab": {
          "base_uri": "https://localhost:8080/",
          "height": 495
        },
        "outputId": "437e1820-5536-4930-ff28-019153ee5e44"
      },
      "source": [
        "import seaborn as sn\n",
        "plt.figure(figsize = (10,7))\n",
        "sn.heatmap(cm, annot=True)\n",
        "plt.xlabel('Predicted')\n",
        "plt.ylabel('Truth')"
      ],
      "execution_count": 77,
      "outputs": [
        {
          "output_type": "stream",
          "text": [
            "/usr/local/lib/python3.6/dist-packages/statsmodels/tools/_testing.py:19: FutureWarning: pandas.util.testing is deprecated. Use the functions in the public API at pandas.testing instead.\n",
            "  import pandas.util.testing as tm\n"
          ],
          "name": "stderr"
        },
        {
          "output_type": "execute_result",
          "data": {
            "text/plain": [
              "Text(69.0, 0.5, 'Truth')"
            ]
          },
          "metadata": {
            "tags": []
          },
          "execution_count": 77
        },
        {
          "output_type": "display_data",
          "data": {
            "image/png": "[encoded data removed]",
            "text/plain": [
              "<Figure size 720x504 with 2 Axes>"
            ]
          },
          "metadata": {
            "tags": [],
            "needs_background": "light"
          }
        }
      ]
    },
    {
      "cell_type": "markdown",
      "metadata": {
        "id": "1DNWRS5OvbqD",
        "colab_type": "text"
      },
      "source": [
        "In above matrix X axis contains predicted values, and Y axis contains actual values. Each value of matrix show the number of times predicted value matched with actual value."
      ]
    }
  ]
}