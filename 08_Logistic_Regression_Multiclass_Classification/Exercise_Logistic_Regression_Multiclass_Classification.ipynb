{
  "nbformat": 4,
  "nbformat_minor": 0,
  "metadata": {
    "colab": {
      "name": "Exercise_Logistic_Regression_Multiclass_Classification.ipynb",
      "provenance": [],
      "authorship_tag": "ABX9TyNfPkGUoHc1KX6Bx5ylBa/4",
      "include_colab_link": true
    },
    "kernelspec": {
      "name": "python3",
      "display_name": "Python 3"
    }
  },
  "cells": [
    {
      "cell_type": "markdown",
      "metadata": {
        "id": "view-in-github",
        "colab_type": "text"
      },
      "source": [
        "<a href=\"https://colab.research.google.com/github/satishgunjal/Machine-Learning-Using-Python/blob/master/08_Logistic_Regression_Binary_Classification/Exercise_Logistic_Regression_Multiclass_Classification.ipynb\" target=\"_parent\"><img src=\"https://colab.research.google.com/assets/colab-badge.svg\" alt=\"Open In Colab\"/></a>"
      ]
    },
    {
      "cell_type": "markdown",
      "metadata": {
        "id": "uLx8ur-5ybNA",
        "colab_type": "text"
      },
      "source": [
        "# Exercise\n",
        "\n",
        "Use sklearn.datasets iris flower dataset to train your model using logistic regression. You need to figure out accuracy of your model and use that to predict different samples in your test dataset. In iris dataset there are 150 samples containing following features,\n",
        "\n",
        "* Sepal Length\n",
        "* Sepal Width\n",
        "* Petal Length\n",
        "* Petal Width\n",
        "\n",
        "Using above 4 features you will clasify a flower in one of the three categories,\n",
        "*  Setosa\n",
        "*  Versicolour\n",
        "*  Virginica\n",
        "\n",
        "![IRIS Flower](https://github.com/codebasics/py/blob/master/ML/8_logistic_reg_multiclass/iris_petal_sepal.png?raw=true)"
      ]
    },
    {
      "cell_type": "markdown",
      "metadata": {
        "id": "lXzBsRYQ1dOx",
        "colab_type": "text"
      },
      "source": [
        "Import required classes"
      ]
    },
    {
      "cell_type": "code",
      "metadata": {
        "id": "FoA_ghZbyUxc",
        "colab_type": "code",
        "colab": {}
      },
      "source": [
        "%matplotlib inline\n",
        "import matplotlib.pyplot as plt\n",
        "from sklearn.datasets import load_iris"
      ],
      "execution_count": 0,
      "outputs": []
    },
    {
      "cell_type": "markdown",
      "metadata": {
        "id": "jikd5GiD1olg",
        "colab_type": "text"
      },
      "source": [
        "Load iris flower dataset"
      ]
    },
    {
      "cell_type": "code",
      "metadata": {
        "id": "kGDIaX1M1qdY",
        "colab_type": "code",
        "colab": {
          "base_uri": "https://localhost:8080/",
          "height": 35
        },
        "outputId": "21419ab6-1111-44d7-ff48-e3f9f9eb2053"
      },
      "source": [
        "iris = load_iris()\n",
        "dir(iris)"
      ],
      "execution_count": 3,
      "outputs": [
        {
          "output_type": "execute_result",
          "data": {
            "text/plain": [
              "['DESCR', 'data', 'feature_names', 'filename', 'target', 'target_names']"
            ]
          },
          "metadata": {
            "tags": []
          },
          "execution_count": 3
        }
      ]
    },
    {
      "cell_type": "markdown",
      "metadata": {
        "id": "aI83K77F2AFt",
        "colab_type": "text"
      },
      "source": [
        "*  iris.DESCR > Complete description of dataset\n",
        "*  iris.data > Data to learn. Each training set is 4 digit array. Total 150 training sets\n",
        "*  iris.feature_names > Array of all 4 feature ['sepal length (cm)','sepal width cm)','petal length (cm)','petal width (cm)']\n",
        "\n",
        "*  iris.filename > CSV file name\n",
        "*  iris.target > The classification label. For every training set there is one classification label(0,1,2). Here 0 for setosa, 1 for versicolor and 2 for virginica \n",
        "*  iris.target_names > the meaning of the features. Its a array >> ['setosa', 'versicolor', 'virginica']\n",
        "\n",
        "From above details its clear that our data is 'iris.data' and labels are 'iris.target'"
      ]
    },
    {
      "cell_type": "markdown",
      "metadata": {
        "id": "X9BHRUP3fLca",
        "colab_type": "text"
      },
      "source": [
        "Let split the data"
      ]
    },
    {
      "cell_type": "code",
      "metadata": {
        "id": "n27tJGDifNch",
        "colab_type": "code",
        "colab": {
          "base_uri": "https://localhost:8080/",
          "height": 88
        },
        "outputId": "bc636975-3648-44b8-e977-1fd90a0252cc"
      },
      "source": [
        "from sklearn.model_selection import train_test_split # importing train_test_split class\n",
        "X_train, X_test, y_train, y_test = train_test_split(iris.data,iris.target,test_size=0.2) \n",
        "print(\"len of X_train is %s\" % (len(X_train)))\n",
        "print(\"len of X_test is %s\" % (len(X_test)))\n",
        "print(\"len of y_train is %s\" % (len(y_train)))\n",
        "print(\"len of y_test is %s\" % (len(y_test)))"
      ],
      "execution_count": 42,
      "outputs": [
        {
          "output_type": "stream",
          "text": [
            "len of X_train is 120\n",
            "len of X_test is 30\n",
            "len of y_train is 120\n",
            "len of y_test is 30\n"
          ],
          "name": "stdout"
        }
      ]
    },
    {
      "cell_type": "markdown",
      "metadata": {
        "id": "n32FDbIegGdk",
        "colab_type": "text"
      },
      "source": [
        "Now lets train the model"
      ]
    },
    {
      "cell_type": "code",
      "metadata": {
        "id": "dUav00iQ2pMV",
        "colab_type": "code",
        "colab": {}
      },
      "source": [
        "from sklearn.linear_model import LogisticRegression # importing logistic regression class\n",
        "model = LogisticRegression() # Classiflier of the LogisticRegression class"
      ],
      "execution_count": 0,
      "outputs": []
    },
    {
      "cell_type": "markdown",
      "metadata": {
        "id": "Th2o0RZOguw5",
        "colab_type": "text"
      },
      "source": [
        "Train the model"
      ]
    },
    {
      "cell_type": "code",
      "metadata": {
        "id": "EbehESZTcwSj",
        "colab_type": "code",
        "colab": {
          "base_uri": "https://localhost:8080/",
          "height": 106
        },
        "outputId": "544f48fb-3d97-49a6-c6c0-a2ed9e8b0ab1"
      },
      "source": [
        "model.fit(X_train,y_train)"
      ],
      "execution_count": 44,
      "outputs": [
        {
          "output_type": "execute_result",
          "data": {
            "text/plain": [
              "LogisticRegression(C=1.0, class_weight=None, dual=False, fit_intercept=True,\n",
              "                   intercept_scaling=1, l1_ratio=None, max_iter=100,\n",
              "                   multi_class='auto', n_jobs=None, penalty='l2',\n",
              "                   random_state=None, solver='lbfgs', tol=0.0001, verbose=0,\n",
              "                   warm_start=False)"
            ]
          },
          "metadata": {
            "tags": []
          },
          "execution_count": 44
        }
      ]
    },
    {
      "cell_type": "markdown",
      "metadata": {
        "id": "T6w5xAREg3Z7",
        "colab_type": "text"
      },
      "source": [
        "Check the score of the model"
      ]
    },
    {
      "cell_type": "code",
      "metadata": {
        "id": "v31_Wa0E2Br8",
        "colab_type": "code",
        "colab": {
          "base_uri": "https://localhost:8080/",
          "height": 35
        },
        "outputId": "7125b254-5b0e-4fac-b8e6-ceb9b7ad32b0"
      },
      "source": [
        "model.score(X_test,y_test)"
      ],
      "execution_count": 45,
      "outputs": [
        {
          "output_type": "execute_result",
          "data": {
            "text/plain": [
              "0.9"
            ]
          },
          "metadata": {
            "tags": []
          },
          "execution_count": 45
        }
      ]
    },
    {
      "cell_type": "markdown",
      "metadata": {
        "id": "BaPtn8bthFNe",
        "colab_type": "text"
      },
      "source": [
        "## Testing the Model\n",
        "\n",
        "**Q1: Predict the flower type of of 30th training set from dataset**"
      ]
    },
    {
      "cell_type": "code",
      "metadata": {
        "id": "WhqF4bydhbkP",
        "colab_type": "code",
        "colab": {
          "base_uri": "https://localhost:8080/",
          "height": 35
        },
        "outputId": "31acaa3c-9225-477a-e3ba-6f0fabd21843"
      },
      "source": [
        "model.predict([iris.data[30]])\n",
        "# From dataset we know flower type for 30th training set is 'setosa' i.e. '0'"
      ],
      "execution_count": 47,
      "outputs": [
        {
          "output_type": "execute_result",
          "data": {
            "text/plain": [
              "array([0])"
            ]
          },
          "metadata": {
            "tags": []
          },
          "execution_count": 47
        }
      ]
    },
    {
      "cell_type": "markdown",
      "metadata": {
        "id": "mn9l8upViEzD",
        "colab_type": "text"
      },
      "source": [
        "**Q1: Predict the flower type of of 80th training set from dataset**"
      ]
    },
    {
      "cell_type": "code",
      "metadata": {
        "id": "eI8EPXodhr4b",
        "colab_type": "code",
        "colab": {
          "base_uri": "https://localhost:8080/",
          "height": 35
        },
        "outputId": "6ed73d11-77b3-444e-d2de-34098635e767"
      },
      "source": [
        "model.predict([iris.data[80]])\n",
        "# From dataset we know flower type for 30th training set is ''versicolor' i.e. '1'"
      ],
      "execution_count": 50,
      "outputs": [
        {
          "output_type": "execute_result",
          "data": {
            "text/plain": [
              "array([1])"
            ]
          },
          "metadata": {
            "tags": []
          },
          "execution_count": 50
        }
      ]
    },
    {
      "cell_type": "markdown",
      "metadata": {
        "id": "iCWzSI_Lifpp",
        "colab_type": "text"
      },
      "source": [
        "## To visualize the inner working of the model we use Congusion Matrixm"
      ]
    },
    {
      "cell_type": "code",
      "metadata": {
        "id": "swy5PfFRiixN",
        "colab_type": "code",
        "colab": {}
      },
      "source": [
        "y_predicted =model.predict(X_test)"
      ],
      "execution_count": 0,
      "outputs": []
    },
    {
      "cell_type": "code",
      "metadata": {
        "id": "mjcp0W4AimF-",
        "colab_type": "code",
        "colab": {
          "base_uri": "https://localhost:8080/",
          "height": 70
        },
        "outputId": "4a089b79-8742-4b4a-a199-58ba17750042"
      },
      "source": [
        "from sklearn.metrics import confusion_matrix # import confusion matrix class\n",
        "\n",
        "cm = confusion_matrix(y_test,y_predicted) # create classifier of confussion_matrix\n",
        "cm # it is two dimentional arraym"
      ],
      "execution_count": 52,
      "outputs": [
        {
          "output_type": "execute_result",
          "data": {
            "text/plain": [
              "array([[ 7,  0,  0],\n",
              "       [ 0, 10,  0],\n",
              "       [ 0,  3, 10]])"
            ]
          },
          "metadata": {
            "tags": []
          },
          "execution_count": 52
        }
      ]
    },
    {
      "cell_type": "markdown",
      "metadata": {
        "id": "oNrlS-92itCt",
        "colab_type": "text"
      },
      "source": [
        "For better visualization of aray we are going to use seaborn library"
      ]
    },
    {
      "cell_type": "code",
      "metadata": {
        "id": "CZnPvsk3ixC_",
        "colab_type": "code",
        "colab": {
          "base_uri": "https://localhost:8080/",
          "height": 499
        },
        "outputId": "42118217-d92a-4ad4-a992-6e464f564539"
      },
      "source": [
        "import seaborn as sn\n",
        "plt.figure(figsize = (10,7))\n",
        "sn.heatmap(cm, annot=True)\n",
        "plt.xlabel('Predicted')\n",
        "plt.ylabel('Truth')"
      ],
      "execution_count": 53,
      "outputs": [
        {
          "output_type": "stream",
          "text": [
            "/usr/local/lib/python3.6/dist-packages/statsmodels/tools/_testing.py:19: FutureWarning: pandas.util.testing is deprecated. Use the functions in the public API at pandas.testing instead.\n",
            "  import pandas.util.testing as tm\n"
          ],
          "name": "stderr"
        },
        {
          "output_type": "execute_result",
          "data": {
            "text/plain": [
              "Text(69.0, 0.5, 'Truth')"
            ]
          },
          "metadata": {
            "tags": []
          },
          "execution_count": 53
        },
        {
          "output_type": "display_data",
          "data": {
            "image/png": "[encoded data removed]",
            "text/plain": [
              "<Figure size 720x504 with 2 Axes>"
            ]
          },
          "metadata": {
            "tags": [],
            "needs_background": "light"
          }
        }
      ]
    },
    {
      "cell_type": "markdown",
      "metadata": {
        "id": "lN1cKjzWi9iG",
        "colab_type": "text"
      },
      "source": [
        "In above matrix, X axis contains predicted values, and Y axis contains actual values. Each value of matrix show the number of times predicted value matched with actual value."
      ]
    }
  ]
}