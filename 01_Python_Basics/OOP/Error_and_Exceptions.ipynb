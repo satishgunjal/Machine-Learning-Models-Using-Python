{
  "nbformat": 4,
  "nbformat_minor": 0,
  "metadata": {
    "colab": {
      "name": "Error_and_Exceptions.ipynb",
      "provenance": [],
      "authorship_tag": "ABX9TyMqjz6iyAspodRrhuiW732L",
      "include_colab_link": true
    },
    "kernelspec": {
      "name": "python3",
      "display_name": "Python 3"
    }
  },
  "cells": [
    {
      "cell_type": "markdown",
      "metadata": {
        "id": "view-in-github",
        "colab_type": "text"
      },
      "source": [
        "<a href=\"https://colab.research.google.com/github/satishgunjal/Machine-Learning-Using-Python/blob/master/01_Python_Basics/OOP/Error_and_Exceptions.ipynb\" target=\"_parent\"><img src=\"https://colab.research.google.com/assets/colab-badge.svg\" alt=\"Open In Colab\"/></a>"
      ]
    },
    {
      "cell_type": "markdown",
      "metadata": {
        "id": "9M95zcuSCdwC",
        "colab_type": "text"
      },
      "source": [
        "# OOP: Erros and Exceptions\n",
        "* **Error**: It is an problem in the program that program should not recover from.At any point if error occurs in program then program should exit gracefully.\n",
        "* Exception:Exceptions are raised when the normal flow of a program is changed by any means."
      ]
    },
    {
      "cell_type": "markdown",
      "metadata": {
        "id": "_ntSIEcnDvPh",
        "colab_type": "text"
      },
      "source": [
        "## Try Except Fianlly"
      ]
    },
    {
      "cell_type": "code",
      "metadata": {
        "id": "MwWyyS1cCZcN",
        "colab_type": "code",
        "colab": {
          "base_uri": "https://localhost:8080/",
          "height": 52
        },
        "outputId": "3e707239-8be9-4e4e-8039-435018749f92"
      },
      "source": [
        "try:\n",
        "  print('Unsafe code in try block')\n",
        "except:\n",
        "  print('Fallback code inexcept block')\n",
        "finally:\n",
        "  print('final code in finally block')"
      ],
      "execution_count": 1,
      "outputs": [
        {
          "output_type": "stream",
          "text": [
            "Unsafe code in try block\n",
            "final code in finally block\n"
          ],
          "name": "stdout"
        }
      ]
    },
    {
      "cell_type": "markdown",
      "metadata": {
        "id": "Ohibuyv2EZuc",
        "colab_type": "text"
      },
      "source": [
        "## Raising Exceptions for Predefined Conditions"
      ]
    },
    {
      "cell_type": "code",
      "metadata": {
        "id": "xOcgr3xxEfX5",
        "colab_type": "code",
        "colab": {
          "base_uri": "https://localhost:8080/",
          "height": 141
        },
        "outputId": "d6c834e8-a539-49f6-d8f7-46db35ff8d0c"
      },
      "source": [
        "# Limiting user input to a positive integer only\n",
        "while True:\n",
        "  try:\n",
        "    user =int(input())\n",
        "    if user < 0:\n",
        "      raise ValueError('Please enter positive value only')\n",
        "    else:\n",
        "      print('You have entered = %s' % (user))\n",
        "  except ValueError as e:\n",
        "    print(e)\n"
      ],
      "execution_count": 0,
      "outputs": [
        {
          "output_type": "stream",
          "text": [
            "1\n",
            "You have entered = 1\n",
            "2\n",
            "You have entered = 2\n",
            "-3\n",
            "Please enter positive value only\n"
          ],
          "name": "stdout"
        }
      ]
    }
  ]
}