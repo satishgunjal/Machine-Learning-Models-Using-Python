{
  "nbformat": 4,
  "nbformat_minor": 0,
  "metadata": {
    "colab": {
      "name": "Exercise_Naive_Bayes.ipynb",
      "provenance": [],
      "authorship_tag": "ABX9TyN+gVcRmONkHXURC9+OJyw3",
      "include_colab_link": true
    },
    "kernelspec": {
      "name": "python3",
      "display_name": "Python 3"
    }
  },
  "cells": [
    {
      "cell_type": "markdown",
      "metadata": {
        "id": "view-in-github",
        "colab_type": "text"
      },
      "source": [
        "<a href=\"https://colab.research.google.com/github/satishgunjal/Machine-Learning-Using-Python/blob/master/14_Naive_Bayes/Exercise_Naive_Bayes.ipynb\" target=\"_parent\"><img src=\"https://colab.research.google.com/assets/colab-badge.svg\" alt=\"Open In Colab\"/></a>"
      ]
    },
    {
      "cell_type": "markdown",
      "metadata": {
        "id": "K4j03CPc8l9x",
        "colab_type": "text"
      },
      "source": [
        "# Problem Statement\n",
        "* Use wine dataset from sklearn.datasets to classify wines into three categories\n",
        "* Load the dataset and split it into test and traion\n",
        "* Train the model using Gaussian and Multinomial classifier and post the scores\n",
        "* Used trained model to perform some prediction on data"
      ]
    },
    {
      "cell_type": "markdown",
      "metadata": {
        "id": "LvwgHA4m9Ye9",
        "colab_type": "text"
      },
      "source": [
        "## Load the data"
      ]
    },
    {
      "cell_type": "code",
      "metadata": {
        "id": "UwWqrrOM8Wyk",
        "colab_type": "code",
        "colab": {}
      },
      "source": [
        "import pandas as pd\n",
        "from sklearn.datasets import load_wine\n",
        "\n",
        "wine = load_wine()"
      ],
      "execution_count": 0,
      "outputs": []
    },
    {
      "cell_type": "code",
      "metadata": {
        "id": "ilVbX88G9nVW",
        "colab_type": "code",
        "colab": {
          "base_uri": "https://localhost:8080/",
          "height": 35
        },
        "outputId": "f5f585a1-5cff-4ff5-ba29-0af926d5e3be"
      },
      "source": [
        "dir(wine)"
      ],
      "execution_count": 3,
      "outputs": [
        {
          "output_type": "execute_result",
          "data": {
            "text/plain": [
              "['DESCR', 'data', 'feature_names', 'target', 'target_names']"
            ]
          },
          "metadata": {
            "tags": []
          },
          "execution_count": 3
        }
      ]
    },
    {
      "cell_type": "code",
      "metadata": {
        "id": "uXPQI7oD-HpN",
        "colab_type": "code",
        "colab": {
          "base_uri": "https://localhost:8080/",
          "height": 35
        },
        "outputId": "de41bc57-62e5-46cc-bb2f-919f76da54eb"
      },
      "source": [
        "wine.target_names"
      ],
      "execution_count": 14,
      "outputs": [
        {
          "output_type": "execute_result",
          "data": {
            "text/plain": [
              "array(['class_0', 'class_1', 'class_2'], dtype='<U7')"
            ]
          },
          "metadata": {
            "tags": []
          },
          "execution_count": 14
        }
      ]
    },
    {
      "cell_type": "markdown",
      "metadata": {
        "id": "AyUPcq2L-gM8",
        "colab_type": "text"
      },
      "source": [
        "## Understanding the data\n",
        "* wine.data > Contains training data with 13 feature and 178 trainingexamples\n",
        "* wine.feature_names > 13 feature names\n",
        "* wine.target > wine type (classes)\n",
        "* wine.target_name > wine type names"
      ]
    },
    {
      "cell_type": "markdown",
      "metadata": {
        "id": "IM9rAMWO_S_h",
        "colab_type": "text"
      },
      "source": [
        "## Load the data into dataframe"
      ]
    },
    {
      "cell_type": "code",
      "metadata": {
        "id": "eTg3gZGT91L_",
        "colab_type": "code",
        "colab": {
          "base_uri": "https://localhost:8080/",
          "height": 200
        },
        "outputId": "f13c49f5-fb63-478e-dab7-5764c2b8d873"
      },
      "source": [
        "df = pd.DataFrame(wine.data)\n",
        "df.head()"
      ],
      "execution_count": 18,
      "outputs": [
        {
          "output_type": "execute_result",
          "data": {
            "text/html": [
              "<div>\n",
              "<style scoped>\n",
              "    .dataframe tbody tr th:only-of-type {\n",
              "        vertical-align: middle;\n",
              "    }\n",
              "\n",
              "    .dataframe tbody tr th {\n",
              "        vertical-align: top;\n",
              "    }\n",
              "\n",
              "    .dataframe thead th {\n",
              "        text-align: right;\n",
              "    }\n",
              "</style>\n",
              "<table border=\"1\" class=\"dataframe\">\n",
              "  <thead>\n",
              "    <tr style=\"text-align: right;\">\n",
              "      <th></th>\n",
              "      <th>0</th>\n",
              "      <th>1</th>\n",
              "      <th>2</th>\n",
              "      <th>3</th>\n",
              "      <th>4</th>\n",
              "      <th>5</th>\n",
              "      <th>6</th>\n",
              "      <th>7</th>\n",
              "      <th>8</th>\n",
              "      <th>9</th>\n",
              "      <th>10</th>\n",
              "      <th>11</th>\n",
              "      <th>12</th>\n",
              "    </tr>\n",
              "  </thead>\n",
              "  <tbody>\n",
              "    <tr>\n",
              "      <th>0</th>\n",
              "      <td>14.23</td>\n",
              "      <td>1.71</td>\n",
              "      <td>2.43</td>\n",
              "      <td>15.6</td>\n",
              "      <td>127.0</td>\n",
              "      <td>2.80</td>\n",
              "      <td>3.06</td>\n",
              "      <td>0.28</td>\n",
              "      <td>2.29</td>\n",
              "      <td>5.64</td>\n",
              "      <td>1.04</td>\n",
              "      <td>3.92</td>\n",
              "      <td>1065.0</td>\n",
              "    </tr>\n",
              "    <tr>\n",
              "      <th>1</th>\n",
              "      <td>13.20</td>\n",
              "      <td>1.78</td>\n",
              "      <td>2.14</td>\n",
              "      <td>11.2</td>\n",
              "      <td>100.0</td>\n",
              "      <td>2.65</td>\n",
              "      <td>2.76</td>\n",
              "      <td>0.26</td>\n",
              "      <td>1.28</td>\n",
              "      <td>4.38</td>\n",
              "      <td>1.05</td>\n",
              "      <td>3.40</td>\n",
              "      <td>1050.0</td>\n",
              "    </tr>\n",
              "    <tr>\n",
              "      <th>2</th>\n",
              "      <td>13.16</td>\n",
              "      <td>2.36</td>\n",
              "      <td>2.67</td>\n",
              "      <td>18.6</td>\n",
              "      <td>101.0</td>\n",
              "      <td>2.80</td>\n",
              "      <td>3.24</td>\n",
              "      <td>0.30</td>\n",
              "      <td>2.81</td>\n",
              "      <td>5.68</td>\n",
              "      <td>1.03</td>\n",
              "      <td>3.17</td>\n",
              "      <td>1185.0</td>\n",
              "    </tr>\n",
              "    <tr>\n",
              "      <th>3</th>\n",
              "      <td>14.37</td>\n",
              "      <td>1.95</td>\n",
              "      <td>2.50</td>\n",
              "      <td>16.8</td>\n",
              "      <td>113.0</td>\n",
              "      <td>3.85</td>\n",
              "      <td>3.49</td>\n",
              "      <td>0.24</td>\n",
              "      <td>2.18</td>\n",
              "      <td>7.80</td>\n",
              "      <td>0.86</td>\n",
              "      <td>3.45</td>\n",
              "      <td>1480.0</td>\n",
              "    </tr>\n",
              "    <tr>\n",
              "      <th>4</th>\n",
              "      <td>13.24</td>\n",
              "      <td>2.59</td>\n",
              "      <td>2.87</td>\n",
              "      <td>21.0</td>\n",
              "      <td>118.0</td>\n",
              "      <td>2.80</td>\n",
              "      <td>2.69</td>\n",
              "      <td>0.39</td>\n",
              "      <td>1.82</td>\n",
              "      <td>4.32</td>\n",
              "      <td>1.04</td>\n",
              "      <td>2.93</td>\n",
              "      <td>735.0</td>\n",
              "    </tr>\n",
              "  </tbody>\n",
              "</table>\n",
              "</div>"
            ],
            "text/plain": [
              "      0     1     2     3      4     5   ...    7     8     9     10    11      12\n",
              "0  14.23  1.71  2.43  15.6  127.0  2.80  ...  0.28  2.29  5.64  1.04  3.92  1065.0\n",
              "1  13.20  1.78  2.14  11.2  100.0  2.65  ...  0.26  1.28  4.38  1.05  3.40  1050.0\n",
              "2  13.16  2.36  2.67  18.6  101.0  2.80  ...  0.30  2.81  5.68  1.03  3.17  1185.0\n",
              "3  14.37  1.95  2.50  16.8  113.0  3.85  ...  0.24  2.18  7.80  0.86  3.45  1480.0\n",
              "4  13.24  2.59  2.87  21.0  118.0  2.80  ...  0.39  1.82  4.32  1.04  2.93   735.0\n",
              "\n",
              "[5 rows x 13 columns]"
            ]
          },
          "metadata": {
            "tags": []
          },
          "execution_count": 18
        }
      ]
    },
    {
      "cell_type": "markdown",
      "metadata": {
        "id": "oluXBWU2_egX",
        "colab_type": "text"
      },
      "source": [
        "## Lets split the data"
      ]
    },
    {
      "cell_type": "code",
      "metadata": {
        "id": "7GeMwVa__hCm",
        "colab_type": "code",
        "colab": {
          "base_uri": "https://localhost:8080/",
          "height": 88
        },
        "outputId": "a3febf3f-6cc4-4582-d7a4-21d882f86bb8"
      },
      "source": [
        "from sklearn.model_selection import train_test_split\n",
        "\n",
        "X_train, X_test,y_train,y_test =train_test_split(df,wine.target,test_size=0.2)\n",
        "\n",
        "print(\"len of X_train is %s\" % (len(X_train)))\n",
        "print(\"len of X_test is %s\" % (len(X_test)))\n",
        "print(\"len of y_train is %s\" % (len(y_train)))m\n",
        "print(\"len of y_test is %s\" % (len(y_test)))"
      ],
      "execution_count": 21,
      "outputs": [
        {
          "output_type": "stream",
          "text": [
            "len of X_train is 142\n",
            "len of X_test is 36\n",
            "len of y_train is 142\n",
            "len of y_test is 36\n"
          ],
          "name": "stdout"
        }
      ]
    },
    {
      "cell_type": "markdown",
      "metadata": {
        "id": "oLIcdJSLAaDO",
        "colab_type": "text"
      },
      "source": [
        "## Lets train the model using Multinomial Naive Byaes Classifier"
      ]
    },
    {
      "cell_type": "code",
      "metadata": {
        "id": "_2lD1WB3AaqW",
        "colab_type": "code",
        "colab": {
          "base_uri": "https://localhost:8080/",
          "height": 35
        },
        "outputId": "07e8b4cd-e4f5-478e-c5d7-16c5d18e02a2"
      },
      "source": [
        "from sklearn.naive_bayes import MultinomialNB\n",
        "\n",
        "model_m = MultinomialNB()\n",
        "model_m.fit(X_train,y_train)\n"
      ],
      "execution_count": 29,
      "outputs": [
        {
          "output_type": "execute_result",
          "data": {
            "text/plain": [
              "MultinomialNB(alpha=1.0, class_prior=None, fit_prior=True)"
            ]
          },
          "metadata": {
            "tags": []
          },
          "execution_count": 29
        }
      ]
    },
    {
      "cell_type": "code",
      "metadata": {
        "id": "QCkSTzzlAnna",
        "colab_type": "code",
        "colab": {
          "base_uri": "https://localhost:8080/",
          "height": 35
        },
        "outputId": "c85ebe63-7bd0-418e-ec18-93687071989b"
      },
      "source": [
        "model_m.score(X_test,y_test)"
      ],
      "execution_count": 30,
      "outputs": [
        {
          "output_type": "execute_result",
          "data": {
            "text/plain": [
              "0.8333333333333334"
            ]
          },
          "metadata": {
            "tags": []
          },
          "execution_count": 30
        }
      ]
    },
    {
      "cell_type": "markdown",
      "metadata": {
        "id": "8JN7Yh6lAuQk",
        "colab_type": "text"
      },
      "source": [
        "## Lets train the model usin g Gaussian Naive Bayes classifier"
      ]
    },
    {
      "cell_type": "code",
      "metadata": {
        "id": "VWSNgNHwAy04",
        "colab_type": "code",
        "colab": {
          "base_uri": "https://localhost:8080/",
          "height": 35
        },
        "outputId": "5de16eed-66d4-4fdc-b74e-41ef9f11307a"
      },
      "source": [
        "from sklearn.naive_bayes import GaussianNB\n",
        "model_g = GaussianNB()\n",
        "model_g.fit(X_train,y_train)"
      ],
      "execution_count": 27,
      "outputs": [
        {
          "output_type": "execute_result",
          "data": {
            "text/plain": [
              "GaussianNB(priors=None, var_smoothing=1e-09)"
            ]
          },
          "metadata": {
            "tags": []
          },
          "execution_count": 27
        }
      ]
    },
    {
      "cell_type": "code",
      "metadata": {
        "id": "6_VrrptTA_AO",
        "colab_type": "code",
        "colab": {
          "base_uri": "https://localhost:8080/",
          "height": 35
        },
        "outputId": "88388f99-3126-4064-bb28-7b0fa2dcd934"
      },
      "source": [
        "model_g.score(X_test,y_test)"
      ],
      "execution_count": 28,
      "outputs": [
        {
          "output_type": "execute_result",
          "data": {
            "text/plain": [
              "0.9722222222222222"
            ]
          },
          "metadata": {
            "tags": []
          },
          "execution_count": 28
        }
      ]
    },
    {
      "cell_type": "markdown",
      "metadata": {
        "id": "UPhz89UTBG_S",
        "colab_type": "text"
      },
      "source": [
        "## Lets predict some wine types"
      ]
    },
    {
      "cell_type": "code",
      "metadata": {
        "id": "MZ9qqb90BKv2",
        "colab_type": "code",
        "colab": {
          "base_uri": "https://localhost:8080/",
          "height": 177
        },
        "outputId": "ff88e5f4-97b0-495c-d122-650fd1990faf"
      },
      "source": [
        "print(\"input values are %s\" % ( X_test[:5]))\n",
        "print(\"Expected o/p values are %s\" % (y_test[:5]))"
      ],
      "execution_count": 35,
      "outputs": [
        {
          "output_type": "stream",
          "text": [
            "input values are         0     1     2     3      4     5   ...    7     8     9     10    11      12\n",
            "71   13.86  1.51  2.67  25.0   86.0  2.95  ...  0.21  1.87  3.38  1.36  3.16   410.0\n",
            "66   13.11  1.01  1.70  15.0   78.0  2.98  ...  0.26  2.28  5.30  1.12  3.18   502.0\n",
            "163  12.96  3.45  2.35  18.5  106.0  1.39  ...  0.40  0.94  5.28  0.68  1.75   675.0\n",
            "13   14.75  1.73  2.39  11.4   91.0  3.10  ...  0.43  2.81  5.40  1.25  2.73  1150.0\n",
            "84   11.84  0.89  2.58  18.0   94.0  2.20  ...  0.22  2.35  3.05  0.79  3.08   520.0\n",
            "\n",
            "[5 rows x 13 columns]\n",
            "Expected o/p values are [1 1 2 0 1]\n"
          ],
          "name": "stdout"
        }
      ]
    },
    {
      "cell_type": "code",
      "metadata": {
        "id": "6-jQyllvBtXG",
        "colab_type": "code",
        "colab": {
          "base_uri": "https://localhost:8080/",
          "height": 35
        },
        "outputId": "e87e2f6d-30ab-4beb-bb51-bcc6a4f7be9d"
      },
      "source": [
        "model_g.predict(X_test[:5])"
      ],
      "execution_count": 33,
      "outputs": [
        {
          "output_type": "execute_result",
          "data": {
            "text/plain": [
              "array([1, 1, 2, 0, 1])"
            ]
          },
          "metadata": {
            "tags": []
          },
          "execution_count": 33
        }
      ]
    }
  ]
}