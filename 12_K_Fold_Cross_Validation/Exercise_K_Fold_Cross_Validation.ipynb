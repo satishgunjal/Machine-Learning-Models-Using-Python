{
  "nbformat": 4,
  "nbformat_minor": 0,
  "metadata": {
    "colab": {
      "name": "Exercise_K_Fold_Cross_Validation.ipynb",
      "provenance": [],
      "authorship_tag": "ABX9TyMcGWL22YyRp5hQNEfvFLG2",
      "include_colab_link": true
    },
    "kernelspec": {
      "name": "python3",
      "display_name": "Python 3"
    }
  },
  "cells": [
    {
      "cell_type": "markdown",
      "metadata": {
        "id": "view-in-github",
        "colab_type": "text"
      },
      "source": [
        "<a href=\"https://colab.research.google.com/github/satishgunjal/Machine-Learning-Using-Python/blob/master/12_K_Fold_Cross_Validation/Exercise_K_Fold_Cross_Validation.ipynb\" target=\"_parent\"><img src=\"https://colab.research.google.com/assets/colab-badge.svg\" alt=\"Open In Colab\"/></a>"
      ]
    },
    {
      "cell_type": "markdown",
      "metadata": {
        "id": "Q-W6PTBpQ4N3",
        "colab_type": "text"
      },
      "source": [
        "# Exercise\n",
        "\n",
        "Use iris flower dataset from sklearn library and use cross_val_score against following models to measure the performance of each. In the end figure out the model with best performance,\n",
        "\n",
        "* Logistic Regression\n",
        "* SVM\n",
        "* Decision Tree\n",
        "* Random Forest"
      ]
    },
    {
      "cell_type": "markdown",
      "metadata": {
        "id": "L6nXVTUyRS5B",
        "colab_type": "text"
      },
      "source": [
        "Import required liabraries"
      ]
    },
    {
      "cell_type": "code",
      "metadata": {
        "id": "g6HLElpxRV3M",
        "colab_type": "code",
        "colab": {}
      },
      "source": [
        "from sklearn.linear_model import LogisticRegression\n",
        "from sklearn.svm import SVC\n",
        "from sklearn.tree import DecisionTreeClassifier\n",
        "from sklearn.ensemble import RandomForestClassifier\n",
        "from sklearn.model_selection import cross_val_score\n",
        "import numpy as np\n",
        "from sklearn.datasets import load_iris\n"
      ],
      "execution_count": 0,
      "outputs": []
    },
    {
      "cell_type": "code",
      "metadata": {
        "id": "E3NnF6hFStjh",
        "colab_type": "code",
        "colab": {
          "base_uri": "https://localhost:8080/",
          "height": 35
        },
        "outputId": "2a174f5a-f302-4045-c26b-ba9cc0d78faa"
      },
      "source": [
        "iris = load_iris()\n",
        "dir(iris)"
      ],
      "execution_count": 7,
      "outputs": [
        {
          "output_type": "execute_result",
          "data": {
            "text/plain": [
              "['DESCR', 'data', 'feature_names', 'filename', 'target', 'target_names']"
            ]
          },
          "metadata": {
            "tags": []
          },
          "execution_count": 7
        }
      ]
    },
    {
      "cell_type": "markdown",
      "metadata": {
        "id": "GM_39w3XSebk",
        "colab_type": "text"
      },
      "source": [
        "## Understanding the IRIS dataset\n",
        "* iris.DESCR > Complete description of dataset\n",
        "* iris.data > Data to learn. Each training set is 4 digit array of features. Total 150 training sets\n",
        "* iris.feature_names > Array of all 4 feature ['sepal length (cm)','sepal width cm)','petal length (cm)','petal width (cm)']\n",
        "* iris.filename > CSV file name\n",
        "* iris.target > The classification label. For every training set there is one classification label(0,1,2). Here 0 for setosa, 1 for versicolor and 2 for virginica\n",
        "* iris.target_names > the meaning of the features. Its a array >> ['setosa', 'versicolor', 'virginica']\n",
        "* From above details its clear that our data is 'iris.data' and labels are 'iris.target'"
      ]
    },
    {
      "cell_type": "markdown",
      "metadata": {
        "id": "8RQcu4lmTF6P",
        "colab_type": "text"
      },
      "source": [
        "### Lets test teh LogisticRegression model performance using cross_val_score"
      ]
    },
    {
      "cell_type": "code",
      "metadata": {
        "id": "IRYnTx3iQr2d",
        "colab_type": "code",
        "colab": {
          "base_uri": "https://localhost:8080/",
          "height": 52
        },
        "outputId": "bf78b973-23e3-4c63-cdec-2afb0e24cce7"
      },
      "source": [
        "score_lr = cross_val_score(LogisticRegression(solver='liblinear'), iris.data, iris.target,cv=3)\n",
        "print(score_lr)\n",
        "print('average score %s' % (np.average(score_lr)))"
      ],
      "execution_count": 15,
      "outputs": [
        {
          "output_type": "stream",
          "text": [
            "[0.96 0.96 0.94]\n",
            "average score 0.9533333333333333\n"
          ],
          "name": "stdout"
        }
      ]
    },
    {
      "cell_type": "markdown",
      "metadata": {
        "id": "Mvqx0oq8TSak",
        "colab_type": "text"
      },
      "source": [
        "### Lets test the SVM model performance using cross_val_score"
      ]
    },
    {
      "cell_type": "code",
      "metadata": {
        "id": "kvvXYCNeTTVT",
        "colab_type": "code",
        "colab": {
          "base_uri": "https://localhost:8080/",
          "height": 52
        },
        "outputId": "b605ee26-b7cc-4408-aa2d-40dae0d6b13c"
      },
      "source": [
        "score_svc = cross_val_score(SVC(),iris.data,iris.target,cv=3)\n",
        "print(score_svc)\n",
        "print('average score %s' % (np.average(score_svc)))"
      ],
      "execution_count": 16,
      "outputs": [
        {
          "output_type": "stream",
          "text": [
            "[0.96 0.98 0.94]\n",
            "average score 0.96\n"
          ],
          "name": "stdout"
        }
      ]
    },
    {
      "cell_type": "markdown",
      "metadata": {
        "id": "aBE3derCTbXW",
        "colab_type": "text"
      },
      "source": [
        "Lets test the Decision Tree model performance using cross_val_score"
      ]
    },
    {
      "cell_type": "code",
      "metadata": {
        "id": "hCYHaYmcTePl",
        "colab_type": "code",
        "colab": {
          "base_uri": "https://localhost:8080/",
          "height": 52
        },
        "outputId": "67f9f428-2c6f-4620-f070-043755520326"
      },
      "source": [
        "score_dt = cross_val_score(DecisionTreeClassifier(),iris.data,iris.target,cv=3)\n",
        "print(score_dt)\n",
        "print('average score %s' % (np.average(score_dt)))"
      ],
      "execution_count": 17,
      "outputs": [
        {
          "output_type": "stream",
          "text": [
            "[0.98 0.92 0.98]\n",
            "average score 0.96\n"
          ],
          "name": "stdout"
        }
      ]
    },
    {
      "cell_type": "markdown",
      "metadata": {
        "id": "3WtFlNwITkci",
        "colab_type": "text"
      },
      "source": [
        "Lets test the RandomForest models performance using cross_val_score"
      ]
    },
    {
      "cell_type": "code",
      "metadata": {
        "id": "5Y8oHbtETk7h",
        "colab_type": "code",
        "colab": {
          "base_uri": "https://localhost:8080/",
          "height": 52
        },
        "outputId": "0d53dd0c-0bdf-48d3-9a26-5773649e3829"
      },
      "source": [
        "score_rf = cross_val_score(RandomForestClassifier(),iris.data,iris.target,cv=3)\n",
        "print(score_rf)\n",
        "print('average score %s' % (np.average(score_rf)))"
      ],
      "execution_count": 18,
      "outputs": [
        {
          "output_type": "stream",
          "text": [
            "[0.98 0.94 0.98]\n",
            "average score 0.9666666666666667\n"
          ],
          "name": "stdout"
        }
      ]
    }
  ]
}