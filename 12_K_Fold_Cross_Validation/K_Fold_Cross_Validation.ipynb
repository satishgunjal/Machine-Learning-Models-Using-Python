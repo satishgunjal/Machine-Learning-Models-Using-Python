{
  "nbformat": 4,
  "nbformat_minor": 0,
  "metadata": {
    "colab": {
      "name": "K_Fold_Cross_Validation.ipynb",
      "provenance": [],
      "authorship_tag": "ABX9TyMpv5QGw3dyzQX0xygDhLlN",
      "include_colab_link": true
    },
    "kernelspec": {
      "name": "python3",
      "display_name": "Python 3"
    }
  },
  "cells": [
    {
      "cell_type": "markdown",
      "metadata": {
        "id": "view-in-github",
        "colab_type": "text"
      },
      "source": [
        "<a href=\"https://colab.research.google.com/github/satishgunjal/Machine-Learning-Using-Python/blob/master/12_K_Fold_Cross_Validation/K_Fold_Cross_Validation.ipynb\" target=\"_parent\"><img src=\"https://colab.research.google.com/assets/colab-badge.svg\" alt=\"Open In Colab\"/></a>"
      ]
    },
    {
      "cell_type": "markdown",
      "metadata": {
        "id": "DOAn30nMqIvz",
        "colab_type": "text"
      },
      "source": [
        "# K Fold Cross Validation\n",
        "1. As of now we have created training and test sets to train and test the model but in case of K fold cross valiadation model we dont use it\n",
        "2. In K fold cross validation we devide the given dataset in K number of folds(batches) and run the model for K number of iterations. In every iteration use one fold(batch) as test set and rest all folds as training set and compute the score for every algorithm. At the end we get K number of scores. Now take the average of scores as our final score.\n",
        "\n",
        "**Problem Statement: Classify the sklearn digits dataset into one of the 10 categories ( 0 to 9). Here we are going to use different algorithms and evaluate each algorithms performance using K Fold Cross Validation**"
      ]
    },
    {
      "cell_type": "markdown",
      "metadata": {
        "id": "dIDiZMu4usYB",
        "colab_type": "text"
      },
      "source": [
        "Import required libraries"
      ]
    },
    {
      "cell_type": "code",
      "metadata": {
        "id": "MJhB1R9KqEfz",
        "colab_type": "code",
        "colab": {}
      },
      "source": [
        "from sklearn.linear_model import LogisticRegression\n",
        "from sklearn.svm import SVC\n",
        "from sklearn.ensemble import RandomForestClassifier\n",
        "import numpy as np\n",
        "from sklearn.datasets import load_digits"
      ],
      "execution_count": 0,
      "outputs": []
    },
    {
      "cell_type": "code",
      "metadata": {
        "id": "FhRy0BPtvSLE",
        "colab_type": "code",
        "colab": {
          "base_uri": "https://localhost:8080/",
          "height": 35
        },
        "outputId": "c76d7b81-c102-4d90-f255-d16c1df5ddee"
      },
      "source": [
        "digits = load_digits()\n",
        "dir(digits)"
      ],
      "execution_count": 5,
      "outputs": [
        {
          "output_type": "execute_result",
          "data": {
            "text/plain": [
              "['DESCR', 'data', 'images', 'target', 'target_names']"
            ]
          },
          "metadata": {
            "tags": []
          },
          "execution_count": 5
        }
      ]
    },
    {
      "cell_type": "markdown",
      "metadata": {
        "id": "yyhhmE-Svvso",
        "colab_type": "text"
      },
      "source": [
        "## Understanding the digits dataset\n",
        "1. digits.DESCR > Description of the dataset\n",
        "2. digits.data > Contains 1797 training example. Since each image is 8x8 digts, 64 pixel is the size of each example\n",
        "3. digits.target > Contains target value for each training examples, so it conatins 1797 y labels\n",
        "4. digits.target_names > Contains name for each target since we have 10 possible classes it conatins 10 names only\n",
        "\n",
        "* Here digits.data is out independent/inputs/ X variables\n",
        "* And digits.target is out dependent/target/y varaibale"
      ]
    },
    {
      "cell_type": "markdown",
      "metadata": {
        "id": "poJYPkXWyyPb",
        "colab_type": "text"
      },
      "source": [
        "## Lets split the data"
      ]
    },
    {
      "cell_type": "code",
      "metadata": {
        "id": "yjDILjCZy9PA",
        "colab_type": "code",
        "colab": {
          "base_uri": "https://localhost:8080/",
          "height": 87
        },
        "outputId": "4048c97d-b65d-468b-9a37-cd471e468adc"
      },
      "source": [
        "from sklearn.model_selection import train_test_split\n",
        "\n",
        "X_train,X_test,y_train,y_test = train_test_split(digits.data,digits.target,test_size=0.3)\n",
        "\n",
        "print(\"len of X_train is %s\" % (len(X_train)))\n",
        "print(\"len of X_test is %s\" % (len(X_test)))\n",
        "print(\"len of y_train is %s\" % (len(y_train)))\n",
        "print(\"len of y_test is %s\" % (len(y_test)))"
      ],
      "execution_count": 15,
      "outputs": [
        {
          "output_type": "stream",
          "text": [
            "len of X_train is 1257\n",
            "len of X_test is 540\n",
            "len of y_train is 1257\n",
            "len of y_test is 540\n"
          ],
          "name": "stdout"
        }
      ]
    },
    {
      "cell_type": "markdown",
      "metadata": {
        "id": "woNAS1Egzs1Q",
        "colab_type": "text"
      },
      "source": [
        "## Lets test using LogisticRegression"
      ]
    },
    {
      "cell_type": "code",
      "metadata": {
        "id": "E8TaoiJbzwNx",
        "colab_type": "code",
        "colab": {
          "base_uri": "https://localhost:8080/",
          "height": 35
        },
        "outputId": "dbf10f1c-6552-4fd8-fa45-d44e1699bec9"
      },
      "source": [
        "model_lr = LogisticRegression(solver='liblinear') \n",
        "model_lr.fit(X_train,y_train)\n",
        "model_lr.score(X_test,y_test)\n",
        "#Note above we are using 'liblinear' insated of default 'lbfgs'. SInce 'lbfgs' failed to converge"
      ],
      "execution_count": 23,
      "outputs": [
        {
          "output_type": "execute_result",
          "data": {
            "text/plain": [
              "0.9703703703703703"
            ]
          },
          "metadata": {
            "tags": []
          },
          "execution_count": 23
        }
      ]
    },
    {
      "cell_type": "markdown",
      "metadata": {
        "id": "4d9PlXU11xeJ",
        "colab_type": "text"
      },
      "source": [
        "## Test using SVM model"
      ]
    },
    {
      "cell_type": "code",
      "metadata": {
        "id": "JPWFWaej11Yf",
        "colab_type": "code",
        "colab": {
          "base_uri": "https://localhost:8080/",
          "height": 35
        },
        "outputId": "bec32f3c-b06d-4056-fa08-0989e4d610b1"
      },
      "source": [
        "model_svm = SVC()\n",
        "model_svm.fit(X_train,y_train)\n",
        "model_svm.score(X_test,y_test)"
      ],
      "execution_count": 24,
      "outputs": [
        {
          "output_type": "execute_result",
          "data": {
            "text/plain": [
              "0.9925925925925926"
            ]
          },
          "metadata": {
            "tags": []
          },
          "execution_count": 24
        }
      ]
    },
    {
      "cell_type": "markdown",
      "metadata": {
        "id": "yXbgwXC52Jhu",
        "colab_type": "text"
      },
      "source": [
        "## Test using RandomForest Algorithm"
      ]
    },
    {
      "cell_type": "code",
      "metadata": {
        "id": "CRgnGlyJ2DKR",
        "colab_type": "code",
        "colab": {
          "base_uri": "https://localhost:8080/",
          "height": 35
        },
        "outputId": "681aef66-9730-4d94-e2ea-87a72ec54c2e"
      },
      "source": [
        "model_rf = RandomForestClassifier()\n",
        "model_rf.fit(X_train, y_train)\n",
        "model_rf.score(X_test,y_test)"
      ],
      "execution_count": 26,
      "outputs": [
        {
          "output_type": "execute_result",
          "data": {
            "text/plain": [
              "0.975925925925926"
            ]
          },
          "metadata": {
            "tags": []
          },
          "execution_count": 26
        }
      ]
    },
    {
      "cell_type": "markdown",
      "metadata": {
        "id": "-ZodHNIA96aF",
        "colab_type": "text"
      },
      "source": [
        "# Using K Fold Cross Validation\n",
        "\n",
        "Basic Example...."
      ]
    },
    {
      "cell_type": "code",
      "metadata": {
        "id": "z5MCtjGW-kz-",
        "colab_type": "code",
        "colab": {}
      },
      "source": [
        "from sklearn.model_selection import KFold\n",
        "\n",
        "kf = KFold(n_splits = 3) # Here K = 3\n",
        "kf"
      ],
      "execution_count": 0,
      "outputs": []
    },
    {
      "cell_type": "code",
      "metadata": {
        "id": "jBOr5-pT_4uA",
        "colab_type": "code",
        "colab": {
          "base_uri": "https://localhost:8080/",
          "height": 69
        },
        "outputId": "7799112a-2e99-44b8-900b-15e8614ac870"
      },
      "source": [
        "for train_index, test_index in kf.split([1,2,3,4,5,6,7,8,9]):\n",
        "  print(train_index,test_index)"
      ],
      "execution_count": 29,
      "outputs": [
        {
          "output_type": "stream",
          "text": [
            "[3 4 5 6 7 8] [0 1 2]\n",
            "[0 1 2 6 7 8] [3 4 5]\n",
            "[0 1 2 3 4 5] [6 7 8]\n"
          ],
          "name": "stdout"
        }
      ]
    },
    {
      "cell_type": "markdown",
      "metadata": {
        "id": "2HTpYZr6ADOF",
        "colab_type": "text"
      },
      "source": [
        "Note above we are using [1,2,3,4,5,6,7,8,9] as sample dataset. Observe the values of train and test index"
      ]
    },
    {
      "cell_type": "markdown",
      "metadata": {
        "id": "EY6ZcOXK2IYO",
        "colab_type": "text"
      },
      "source": [
        "\n",
        "## Now lets use K Fold on our digits dataset\n",
        "\n"
      ]
    },
    {
      "cell_type": "code",
      "metadata": {
        "id": "MhhoH7IFAx6-",
        "colab_type": "code",
        "colab": {}
      },
      "source": [
        "# Finction to get the score for a model\n",
        "def get_score(model, X_train, X_test, y_train, y_test):\n",
        "  model.fit(X_train,y_train)\n",
        "  return model.score(X_test,y_test)"
      ],
      "execution_count": 0,
      "outputs": []
    },
    {
      "cell_type": "code",
      "metadata": {
        "id": "p1w8Bfb5BfiS",
        "colab_type": "code",
        "colab": {
          "base_uri": "https://localhost:8080/",
          "height": 69
        },
        "outputId": "d9c83572-c8d5-496c-ada2-8f2c67037494"
      },
      "source": [
        "from sklearn.model_selection import StratifiedKFold\n",
        "\n",
        "folds = StratifiedKFold(n_splits = 3) # means K = 3\n",
        "\n",
        "# Store the score for each model\n",
        "score_lr = []\n",
        "score_svm = []\n",
        "score_rf = []\n",
        "\n",
        "# Since K = 3 , for loop will run for 3 iterations\n",
        "for train_index, test_index in folds.split(digits.data, digits.target):\n",
        "  X_train, X_test, y_train, y_test = digits.data[train_index], digits.data[test_index], digits.target[train_index], digits.target[test_index]\n",
        "\n",
        "  score_lr.append(get_score(LogisticRegression(solver='liblinear') , X_train, X_test, y_train, y_test))\n",
        "  score_svm.append(get_score(SVC() , X_train, X_test, y_train, y_test))\n",
        "  score_rf.append(get_score(RandomForestClassifier() , X_train, X_test, y_train, y_test))\n",
        "\n",
        "print(\"LogisticRegression scores are %s \" % (score_lr))\n",
        "print(\"SVM scores are %s \" % (score_svm))\n",
        "print(\"Random Forst scores are %s \" % (score_rf))"
      ],
      "execution_count": 48,
      "outputs": [
        {
          "output_type": "stream",
          "text": [
            "LogisticRegression scores are [0.8948247078464107, 0.9532554257095158, 0.9098497495826378] \n",
            "SVM scores are [0.9649415692821369, 0.9799666110183639, 0.9649415692821369] \n",
            "Random Forst scores are [0.9415692821368948, 0.9565943238731218, 0.9265442404006677] \n"
          ],
          "name": "stdout"
        }
      ]
    },
    {
      "cell_type": "markdown",
      "metadata": {
        "id": "UfcALwhDHHbC",
        "colab_type": "text"
      },
      "source": [
        "## Using Sklearn cross_val_score function\n",
        "**NOTE: Sklearn's cross_val_score uses StratifiedKFold by default** \n",
        "\n",
        "Instead of using above code, we can use sklearn library 'cross_val_score'"
      ]
    },
    {
      "cell_type": "code",
      "metadata": {
        "id": "nCzmjViNILfK",
        "colab_type": "code",
        "colab": {}
      },
      "source": [
        "from sklearn.model_selection import cross_val_score"
      ],
      "execution_count": 0,
      "outputs": []
    },
    {
      "cell_type": "markdown",
      "metadata": {
        "id": "vFB5aXgsIfIU",
        "colab_type": "text"
      },
      "source": [
        "### Lets test teh LogisticRegression model performance using cross_val_score"
      ]
    },
    {
      "cell_type": "code",
      "metadata": {
        "id": "ojjqNee9IlsJ",
        "colab_type": "code",
        "colab": {
          "base_uri": "https://localhost:8080/",
          "height": 35
        },
        "outputId": "d8c8f5c9-d610-45eb-b99d-93781b96cd1c"
      },
      "source": [
        "cross_val_score(LogisticRegression(solver='liblinear'), digits.data, digits.target,cv=3)"
      ],
      "execution_count": 54,
      "outputs": [
        {
          "output_type": "execute_result",
          "data": {
            "text/plain": [
              "array([0.89482471, 0.95325543, 0.90984975])"
            ]
          },
          "metadata": {
            "tags": []
          },
          "execution_count": 54
        }
      ]
    },
    {
      "cell_type": "markdown",
      "metadata": {
        "id": "CdgNcrrHJE5b",
        "colab_type": "text"
      },
      "source": [
        "### Lets test the SVM model performance using cross_val_score "
      ]
    },
    {
      "cell_type": "code",
      "metadata": {
        "id": "20kxvCUbJK_F",
        "colab_type": "code",
        "colab": {
          "base_uri": "https://localhost:8080/",
          "height": 35
        },
        "outputId": "91af9815-0b80-4128-dc4f-af7b2bba095c"
      },
      "source": [
        "cross_val_score(SVC(),digits.data,digits.target,cv=3)"
      ],
      "execution_count": 55,
      "outputs": [
        {
          "output_type": "execute_result",
          "data": {
            "text/plain": [
              "array([0.96494157, 0.97996661, 0.96494157])"
            ]
          },
          "metadata": {
            "tags": []
          },
          "execution_count": 55
        }
      ]
    },
    {
      "cell_type": "markdown",
      "metadata": {
        "id": "3Dr4uZiZJade",
        "colab_type": "text"
      },
      "source": [
        "### Lets test the RandomForest models performance using cross_val_score"
      ]
    },
    {
      "cell_type": "code",
      "metadata": {
        "id": "4ZsKSLE_Jgop",
        "colab_type": "code",
        "colab": {
          "base_uri": "https://localhost:8080/",
          "height": 35
        },
        "outputId": "5f16cd09-0367-4352-9ef9-31841f97599b"
      },
      "source": [
        "cross_val_score(RandomForestClassifier(),digits.data,digits.target,cv=3)"
      ],
      "execution_count": 62,
      "outputs": [
        {
          "output_type": "execute_result",
          "data": {
            "text/plain": [
              "array([0.93656093, 0.95993322, 0.93489149])"
            ]
          },
          "metadata": {
            "tags": []
          },
          "execution_count": 62
        }
      ]
    },
    {
      "cell_type": "markdown",
      "metadata": {
        "id": "1vl1H4PLKzIO",
        "colab_type": "text"
      },
      "source": [
        "## Fine Tunning\n",
        "From above results its clear that 'RandomForest' performed better that other algorithms\n",
        "\n",
        "**NOTE: Default value of 'n_estimators' is '100' for RandomForest algorithm**\n",
        "\n",
        "Lets fine tune it further...."
      ]
    },
    {
      "cell_type": "code",
      "metadata": {
        "id": "6d5LGa1ILKnU",
        "colab_type": "code",
        "colab": {
          "base_uri": "https://localhost:8080/",
          "height": 35
        },
        "outputId": "d9050811-6e4d-4471-8d7e-3451e6bf64df"
      },
      "source": [
        "# Try1: Using n_estimators=5 and cv=10\n",
        "scores1 = cross_val_score(RandomForestClassifier(n_estimators=5),digits.data, digits.target, cv=10)\n",
        "np.average(scores1)"
      ],
      "execution_count": 63,
      "outputs": [
        {
          "output_type": "execute_result",
          "data": {
            "text/plain": [
              "0.8653258845437616"
            ]
          },
          "metadata": {
            "tags": []
          },
          "execution_count": 63
        }
      ]
    },
    {
      "cell_type": "code",
      "metadata": {
        "id": "5qxldlSqLSEp",
        "colab_type": "code",
        "colab": {
          "base_uri": "https://localhost:8080/",
          "height": 35
        },
        "outputId": "d851a629-5bb8-4499-d7b7-ad93a0324663"
      },
      "source": [
        "# Try1: Using n_estimators=20 and cv=10\n",
        "scores2 = cross_val_score(RandomForestClassifier(n_estimators=20),digits.data, digits.target, cv=10)\n",
        "np.average(scores2)m"
      ],
      "execution_count": 64,
      "outputs": [
        {
          "output_type": "execute_result",
          "data": {
            "text/plain": [
              "0.9337771570453134"
            ]
          },
          "metadata": {
            "tags": []
          },
          "execution_count": 64
        }
      ]
    },
    {
      "cell_type": "code",
      "metadata": {
        "id": "EHYiUxz_Lbfc",
        "colab_type": "code",
        "colab": {
          "base_uri": "https://localhost:8080/",
          "height": 35
        },
        "outputId": "0882aa93-0a56-4c6a-aade-7cda502bcdf0"
      },
      "source": [
        "# Try1: Using n_estimators=30 and cv=10\n",
        "scores3 = cross_val_score(RandomForestClassifier(n_estimators=30),digits.data, digits.target, cv=10)\n",
        "np.average(scores3)"
      ],
      "execution_count": 65,
      "outputs": [
        {
          "output_type": "execute_result",
          "data": {
            "text/plain": [
              "0.9460117939168218"
            ]
          },
          "metadata": {
            "tags": []
          },
          "execution_count": 65
        }
      ]
    },
    {
      "cell_type": "code",
      "metadata": {
        "id": "M7IJcM37LgA-",
        "colab_type": "code",
        "colab": {
          "base_uri": "https://localhost:8080/",
          "height": 35
        },
        "outputId": "70ae3f7f-a52a-4454-fb79-f7aa66346e8f"
      },
      "source": [
        "# Try1: Using n_estimators=40 and cv=10\n",
        "scores4 = cross_val_score(RandomForestClassifier(n_estimators=40),digits.data, digits.target, cv=10)\n",
        "np.average(scores4)"
      ],
      "execution_count": 66,
      "outputs": [
        {
          "output_type": "execute_result",
          "data": {
            "text/plain": [
              "0.9449037864680323"
            ]
          },
          "metadata": {
            "tags": []
          },
          "execution_count": 66
        }
      ]
    }
  ]
}