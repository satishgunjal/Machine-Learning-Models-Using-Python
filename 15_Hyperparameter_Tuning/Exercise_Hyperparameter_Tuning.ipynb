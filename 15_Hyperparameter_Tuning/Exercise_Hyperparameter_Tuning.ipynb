{
  "nbformat": 4,
  "nbformat_minor": 0,
  "metadata": {
    "colab": {
      "name": "Exercise_Hyperparameter_Tuning.ipynb",
      "provenance": [],
      "authorship_tag": "ABX9TyP77wIJtGUuaz0axmVRp+gT",
      "include_colab_link": true
    },
    "kernelspec": {
      "name": "python3",
      "display_name": "Python 3"
    }
  },
  "cells": [
    {
      "cell_type": "markdown",
      "metadata": {
        "id": "view-in-github",
        "colab_type": "text"
      },
      "source": [
        "<a href=\"https://colab.research.google.com/github/satishgunjal/Machine-Learning-Using-Python/blob/master/15_Hyperparameter_Tuning/Exercise_Hyperparameter_Tuning.ipynb\" target=\"_parent\"><img src=\"https://colab.research.google.com/assets/colab-badge.svg\" alt=\"Open In Colab\"/></a>"
      ]
    },
    {
      "cell_type": "markdown",
      "metadata": {
        "id": "BOZ4wxJ7jp0o",
        "colab_type": "text"
      },
      "source": [
        "# Exercise Hyperparameter Tuning\n",
        "## Problem Statement\n",
        "* For digits dataset in sklearn.datasets try following models and find the best performing model. Also find the optimal paramters for that classifier\n",
        "\n",
        "  * from sklearn import svm\n",
        "  * from sklearn.ensemble import RandomForestClassifier\n",
        "  * from sklearn.linear_model import LogisticRegression\n",
        "  * from sklearn.naive_bayes import GaussianNB\n",
        "  * from sklearn.naive_bayes import MultinomialNB\n",
        "  * from sklearn.tree import DecisionTreeClassfier"
      ]
    },
    {
      "cell_type": "markdown",
      "metadata": {
        "id": "FaDEe7-5lGUx",
        "colab_type": "text"
      },
      "source": [
        "## Lets load the digits datset"
      ]
    },
    {
      "cell_type": "code",
      "metadata": {
        "id": "-5n_7Ny8jmgd",
        "colab_type": "code",
        "colab": {
          "base_uri": "https://localhost:8080/",
          "height": 35
        },
        "outputId": "bdf3b3fb-f7d0-497e-9165-2d5d1ef2a4e5"
      },
      "source": [
        "from sklearn.datasets import load_digits\n",
        "digits = load_digits()\n",
        "dir(digits)"
      ],
      "execution_count": 1,
      "outputs": [
        {
          "output_type": "execute_result",
          "data": {
            "text/plain": [
              "['DESCR', 'data', 'images', 'target', 'target_names']"
            ]
          },
          "metadata": {
            "tags": []
          },
          "execution_count": 1
        }
      ]
    },
    {
      "cell_type": "markdown",
      "metadata": {
        "id": "d9iU2FcalTic",
        "colab_type": "text"
      },
      "source": [
        "## Understanding the dataset\n",
        "* digits.DESCR > Description of the dataset\n",
        "* digits.data > Contains 1797 training example. Since each image is 8x8 digts, 64 pixel is the size of each example\n",
        "* digits.target > Contains target value for each training examples, so it conatins 1797 y labels\n",
        "* digits.target_names > Contains name for each target since we have 10 possible classes it conatins 10 names only\n",
        "* Here digits.data is our independent/inputs/ X variables\n",
        "* And digits.target is our dependent/target/y varaibale"
      ]
    },
    {
      "cell_type": "markdown",
      "metadata": {
        "id": "q8AU2HVMy54w",
        "colab_type": "text"
      },
      "source": [
        "##Lets split the dataset"
      ]
    },
    {
      "cell_type": "code",
      "metadata": {
        "id": "qaOidCCUy7pK",
        "colab_type": "code",
        "colab": {
          "base_uri": "https://localhost:8080/",
          "height": 87
        },
        "outputId": "eb950a24-ac60-45bc-c4f7-3afa11384470"
      },
      "source": [
        "import pandas as pd\n",
        "from sklearn.model_selection import train_test_split\n",
        "\n",
        "X_train,X_test,y_train,y_test = train_test_split(digits.data,digits.target,test_size=0.2)\n",
        "print(\"len of X_train is %s\" % (len(X_train)))\n",
        "print(\"len of X_test is %s\" % (len(X_test)))\n",
        "print(\"len of y_train is %s\" % (len(y_train)))\n",
        "print(\"len of y_test is %s\" % (len(y_test)))"
      ],
      "execution_count": 16,
      "outputs": [
        {
          "output_type": "stream",
          "text": [
            "len of X_train is 1437\n",
            "len of X_test is 360\n",
            "len of y_train is 1437\n",
            "len of y_test is 360\n"
          ],
          "name": "stdout"
        }
      ]
    },
    {
      "cell_type": "markdown",
      "metadata": {
        "id": "A1yfDopWxu9L",
        "colab_type": "text"
      },
      "source": [
        "Import the required libraries"
      ]
    },
    {
      "cell_type": "code",
      "metadata": {
        "id": "gDFJY7lcxxaR",
        "colab_type": "code",
        "colab": {}
      },
      "source": [
        "from sklearn import svm\n",
        "from sklearn.ensemble import RandomForestClassifier\n",
        "from sklearn.linear_model import LogisticRegression\n",
        "from sklearn.naive_bayes import GaussianNB\n",
        "from sklearn.naive_bayes import MultinomialNB\n",
        "from sklearn import tree"
      ],
      "execution_count": 0,
      "outputs": []
    },
    {
      "cell_type": "markdown",
      "metadata": {
        "id": "GNgp7zJutzgB",
        "colab_type": "text"
      },
      "source": [
        "Lets create model parameters JSON to test it using GridSearchCV"
      ]
    },
    {
      "cell_type": "code",
      "metadata": {
        "id": "AJGddzU8t8CN",
        "colab_type": "code",
        "colab": {}
      },
      "source": [
        "model_params = {\n",
        "    'SVM': {\n",
        "        'model': svm.SVC(gamma='auto'),\n",
        "        'params' : {\n",
        "            'C': [1,10,20],\n",
        "            'kernel': ['rbf','linear']\n",
        "        }  \n",
        "    },\n",
        "    'RandomForrestClassifier': {\n",
        "        'model': RandomForestClassifier(),\n",
        "        'params' : {\n",
        "            'n_estimators': [1,5,10]\n",
        "        }\n",
        "    },\n",
        "    'LogisticRegression' : {\n",
        "        'model': LogisticRegression(solver='liblinear',multi_class='auto'),\n",
        "        'params': {\n",
        "            'C': [1,5,10]\n",
        "        }\n",
        "    },\n",
        "    'GaussianNB' : {\n",
        "      'model': GaussianNB(),\n",
        "      'params': { }\n",
        "    },\n",
        "    'MultinomialNB' : {\n",
        "      'model': MultinomialNB(),\n",
        "      'params': {  }\n",
        "    },\n",
        "    'DecisionTreeClassifier' : {\n",
        "      'model': tree.DecisionTreeClassifier(),\n",
        "      'params': {\n",
        "          'criterion': ['gini','entropy']\n",
        "        }\n",
        "    }\n",
        "}"
      ],
      "execution_count": 0,
      "outputs": []
    },
    {
      "cell_type": "code",
      "metadata": {
        "id": "7_6bAM_0lWri",
        "colab_type": "code",
        "colab": {
          "base_uri": "https://localhost:8080/",
          "height": 233
        },
        "outputId": "5cf6fa39-2f7e-4227-ae0e-2c4b792592d4"
      },
      "source": [
        "from sklearn.model_selection import GridSearchCV\n",
        "\n",
        "scores = []\n",
        "\n",
        "for model_name, mp in model_params.items():\n",
        "  cls = GridSearchCV(mp['model'],mp['params'], cv =5, return_train_score =False)\n",
        "  cls.fit(X_train,y_train)\n",
        "  scores.append({\n",
        "      'model_name': model_name,\n",
        "      'best_score': cls.best_score_,\n",
        "      'best_params':cls.best_params_})\n",
        "  \n",
        "df = pd.DataFrame(scores,columns = ['model_name','best_score','best_params'])\n",
        "df"
      ],
      "execution_count": 23,
      "outputs": [
        {
          "output_type": "execute_result",
          "data": {
            "text/html": [
              "<div>\n",
              "<style scoped>\n",
              "    .dataframe tbody tr th:only-of-type {\n",
              "        vertical-align: middle;\n",
              "    }\n",
              "\n",
              "    .dataframe tbody tr th {\n",
              "        vertical-align: top;\n",
              "    }\n",
              "\n",
              "    .dataframe thead th {\n",
              "        text-align: right;\n",
              "    }\n",
              "</style>\n",
              "<table border=\"1\" class=\"dataframe\">\n",
              "  <thead>\n",
              "    <tr style=\"text-align: right;\">\n",
              "      <th></th>\n",
              "      <th>model_name</th>\n",
              "      <th>best_score</th>\n",
              "      <th>best_params</th>\n",
              "    </tr>\n",
              "  </thead>\n",
              "  <tbody>\n",
              "    <tr>\n",
              "      <th>0</th>\n",
              "      <td>SVM</td>\n",
              "      <td>0.978426</td>\n",
              "      <td>{'C': 1, 'kernel': 'linear'}</td>\n",
              "    </tr>\n",
              "    <tr>\n",
              "      <th>1</th>\n",
              "      <td>RandomForrestClassifier</td>\n",
              "      <td>0.942255</td>\n",
              "      <td>{'n_estimators': 10}</td>\n",
              "    </tr>\n",
              "    <tr>\n",
              "      <th>2</th>\n",
              "      <td>LogisticRegression</td>\n",
              "      <td>0.958244</td>\n",
              "      <td>{'C': 1}</td>\n",
              "    </tr>\n",
              "    <tr>\n",
              "      <th>3</th>\n",
              "      <td>GaussianNB</td>\n",
              "      <td>0.821148</td>\n",
              "      <td>{}</td>\n",
              "    </tr>\n",
              "    <tr>\n",
              "      <th>4</th>\n",
              "      <td>MultinomialNB</td>\n",
              "      <td>0.903971</td>\n",
              "      <td>{}</td>\n",
              "    </tr>\n",
              "    <tr>\n",
              "      <th>5</th>\n",
              "      <td>DecisionTreeClassifier</td>\n",
              "      <td>0.855967</td>\n",
              "      <td>{'criterion': 'entropy'}</td>\n",
              "    </tr>\n",
              "  </tbody>\n",
              "</table>\n",
              "</div>"
            ],
            "text/plain": [
              "                model_name  best_score                   best_params\n",
              "0                      SVM    0.978426  {'C': 1, 'kernel': 'linear'}\n",
              "1  RandomForrestClassifier    0.942255          {'n_estimators': 10}\n",
              "2       LogisticRegression    0.958244                      {'C': 1}\n",
              "3               GaussianNB    0.821148                            {}\n",
              "4            MultinomialNB    0.903971                            {}\n",
              "5   DecisionTreeClassifier    0.855967      {'criterion': 'entropy'}"
            ]
          },
          "metadata": {
            "tags": []
          },
          "execution_count": 23
        }
      ]
    }
  ]
}